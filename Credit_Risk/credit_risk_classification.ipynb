{
 "cells": [
  {
   "cell_type": "code",
   "execution_count": 33,
   "metadata": {},
   "outputs": [],
   "source": [
    "#\n",
    "# Import the modules\n",
    "#\n",
    "\n",
    "import pandas                                                 as pd\n",
    "import shutil                                                 as shu\n",
    "from   colorama                import Fore                    as fr\n",
    "from   colorama                import Back                    as bk\n",
    "from   colorama                import Style                   as st\n",
    "from   pathlib                 import Path                    as pt\n",
    "from   sklearn.metrics         import balanced_accuracy_score as bas\n",
    "from   sklearn.metrics         import confusion_matrix        as cmx\n",
    "from   sklearn.metrics         import classification_report   as csr\n",
    "from   sklearn.model_selection import train_test_split        as tts\n",
    "from   sklearn.linear_model    import LogisticRegression      as lre\n",
    "from   imblearn.over_sampling  import RandomOverSampler       as ros\n",
    "from   collections             import Counter                 as ctr"
   ]
  },
  {
   "cell_type": "code",
   "execution_count": 44,
   "metadata": {},
   "outputs": [],
   "source": [
    "#\n",
    "# Auxiliary functions\n",
    "#\n",
    "def printSeparator():\n",
    "    w, h = shu.get_terminal_size()\n",
    "    print(fr.GREEN + '-' * w + fr.WHITE)\n",
    "    \n",
    "def printStep(stepA, stepB):\n",
    "    printSeparator()\n",
    "    print(fr.BLUE   + stepA)\n",
    "    print(fr.YELLOW + stepB)\n",
    "    printSeparator()\n",
    "    \n",
    "def printDFinfo(name,dfName):\n",
    "    printSeparator()\n",
    "    print('Name: ',name)\n",
    "    printSeparator()\n",
    "    print(dfName.info())    \n",
    "    printSeparator()\n",
    "    print('Row Count :' + fr.RED)\n",
    "    print(dfName.count(),fr.WHITE)\n",
    "    printSeparator()\n",
    "    print(dfName.head())\n",
    "    printSeparator()\n",
    "    \n",
    "def printReport(reportName):\n",
    "    printSeparator()\n",
    "    print(fr.RED,'Classification Report',fr.WHITE)\n",
    "    print(reportName)\n",
    "    printSeparator()\n",
    "    \n",
    "def printBAS(basName):\n",
    "    printSeparator()\n",
    "    print(fr.WHITE + 'Balanced Accuracy Score : '+ fr.RED + str(basName))\n",
    "    printSeparator()"
   ]
  },
  {
   "cell_type": "markdown",
   "metadata": {},
   "source": [
    "Step 1: Split the Data into Training and Testing Sets\n"
   ]
  },
  {
   "cell_type": "markdown",
   "metadata": {},
   "source": [
    "\n",
    "Step 1.1: Read the `lending_data.csv` data from the `Resources` folder into a Pandas DataFrame."
   ]
  },
  {
   "cell_type": "code",
   "execution_count": 3,
   "metadata": {},
   "outputs": [
    {
     "name": "stdout",
     "output_type": "stream",
     "text": [
      "\u001b[32m--------------------------------------------------------------------------------\u001b[37m\n",
      "\u001b[34m1 - Preparation\n",
      "\u001b[33m1.1 - Read CSV file, create DF and show head\n",
      "\u001b[32m--------------------------------------------------------------------------------\u001b[37m\n"
     ]
    }
   ],
   "source": [
    "printStep('1 - Preparation','1.1 - Read CSV file, create DF and show head'                                          )"
   ]
  },
  {
   "cell_type": "code",
   "execution_count": 4,
   "metadata": {},
   "outputs": [
    {
     "name": "stdout",
     "output_type": "stream",
     "text": [
      "\u001b[32m--------------------------------------------------------------------------------\u001b[37m\n",
      "Name:  df_lending\n",
      "\u001b[32m--------------------------------------------------------------------------------\u001b[37m\n",
      "<class 'pandas.core.frame.DataFrame'>\n",
      "RangeIndex: 77536 entries, 0 to 77535\n",
      "Data columns (total 8 columns):\n",
      " #   Column            Non-Null Count  Dtype  \n",
      "---  ------            --------------  -----  \n",
      " 0   loan_size         77536 non-null  float64\n",
      " 1   interest_rate     77536 non-null  float64\n",
      " 2   borrower_income   77536 non-null  int64  \n",
      " 3   debt_to_income    77536 non-null  float64\n",
      " 4   num_of_accounts   77536 non-null  int64  \n",
      " 5   derogatory_marks  77536 non-null  int64  \n",
      " 6   total_debt        77536 non-null  int64  \n",
      " 7   loan_status       77536 non-null  int64  \n",
      "dtypes: float64(3), int64(5)\n",
      "memory usage: 4.7 MB\n",
      "None\n",
      "\u001b[32m--------------------------------------------------------------------------------\u001b[37m\n",
      "Row Count :\u001b[31m\n",
      "loan_size           77536\n",
      "interest_rate       77536\n",
      "borrower_income     77536\n",
      "debt_to_income      77536\n",
      "num_of_accounts     77536\n",
      "derogatory_marks    77536\n",
      "total_debt          77536\n",
      "loan_status         77536\n",
      "dtype: int64 \u001b[37m\n",
      "\u001b[32m--------------------------------------------------------------------------------\u001b[37m\n",
      "   loan_size  interest_rate  borrower_income  debt_to_income  num_of_accounts  \\\n",
      "0    10700.0          7.672            52800        0.431818                5   \n",
      "1     8400.0          6.692            43600        0.311927                3   \n",
      "2     9000.0          6.963            46100        0.349241                3   \n",
      "3    10700.0          7.664            52700        0.430740                5   \n",
      "4    10800.0          7.698            53000        0.433962                5   \n",
      "\n",
      "   derogatory_marks  total_debt  loan_status  \n",
      "0                 1       22800            0  \n",
      "1                 0       13600            0  \n",
      "2                 0       16100            0  \n",
      "3                 1       22700            0  \n",
      "4                 1       23000            0  \n",
      "\u001b[32m--------------------------------------------------------------------------------\u001b[37m\n"
     ]
    }
   ],
   "source": [
    "#\n",
    "# Read the CSV file from the Resources folder into a Pandas DataFrame\n",
    "#\n",
    "\n",
    "df_lending = pd.read_csv(pt('../Resources/lending_data.csv'))\n",
    "\n",
    "#\n",
    "# Review the DataFrame\n",
    "#\n",
    "printDFinfo('df_lending',df_lending)\n"
   ]
  },
  {
   "cell_type": "markdown",
   "metadata": {},
   "source": [
    "Step 1.2: Create the labels set (`y`)  from the “loan_status” column, and then create the features (`X`) DataFrame from the remaining columns."
   ]
  },
  {
   "cell_type": "code",
   "execution_count": 5,
   "metadata": {},
   "outputs": [
    {
     "name": "stdout",
     "output_type": "stream",
     "text": [
      "\u001b[32m--------------------------------------------------------------------------------\u001b[37m\n",
      "\u001b[34m1 - Preparation\n",
      "\u001b[33m1.2 - Create labels X and y\n",
      "\u001b[32m--------------------------------------------------------------------------------\u001b[37m\n"
     ]
    }
   ],
   "source": [
    "printStep('1 - Preparation','1.2 - Create labels X and y')"
   ]
  },
  {
   "cell_type": "code",
   "execution_count": 6,
   "metadata": {},
   "outputs": [],
   "source": [
    "#\n",
    "# Separate the data into labels and features\n",
    "#\n",
    "# Separate the y variable, the labels\n",
    "#\n",
    "\n",
    "y = df_lending['loan_status'];\n",
    "\n",
    "#\n",
    "# Separate the X variable, the features\n",
    "#\n",
    "\n",
    "X = df_lending.drop(columns=['loan_status']);"
   ]
  },
  {
   "cell_type": "code",
   "execution_count": 7,
   "metadata": {},
   "outputs": [
    {
     "name": "stdout",
     "output_type": "stream",
     "text": [
      "\u001b[32m--------------------------------------------------------------------------------\u001b[37m\n",
      "Name:  y\n",
      "\u001b[32m--------------------------------------------------------------------------------\u001b[37m\n",
      "<class 'pandas.core.series.Series'>\n",
      "RangeIndex: 77536 entries, 0 to 77535\n",
      "Series name: loan_status\n",
      "Non-Null Count  Dtype\n",
      "--------------  -----\n",
      "77536 non-null  int64\n",
      "dtypes: int64(1)\n",
      "memory usage: 605.9 KB\n",
      "None\n",
      "\u001b[32m--------------------------------------------------------------------------------\u001b[37m\n",
      "Row Count :\u001b[31m\n",
      "77536 \u001b[37m\n",
      "\u001b[32m--------------------------------------------------------------------------------\u001b[37m\n",
      "0    0\n",
      "1    0\n",
      "2    0\n",
      "3    0\n",
      "4    0\n",
      "Name: loan_status, dtype: int64\n",
      "\u001b[32m--------------------------------------------------------------------------------\u001b[37m\n"
     ]
    }
   ],
   "source": [
    "#\n",
    "# Review the y variable Series\n",
    "#\n",
    "\n",
    "printDFinfo('y',y)"
   ]
  },
  {
   "cell_type": "code",
   "execution_count": 8,
   "metadata": {},
   "outputs": [
    {
     "name": "stdout",
     "output_type": "stream",
     "text": [
      "\u001b[32m--------------------------------------------------------------------------------\u001b[37m\n",
      "Name:  X\n",
      "\u001b[32m--------------------------------------------------------------------------------\u001b[37m\n",
      "<class 'pandas.core.frame.DataFrame'>\n",
      "RangeIndex: 77536 entries, 0 to 77535\n",
      "Data columns (total 7 columns):\n",
      " #   Column            Non-Null Count  Dtype  \n",
      "---  ------            --------------  -----  \n",
      " 0   loan_size         77536 non-null  float64\n",
      " 1   interest_rate     77536 non-null  float64\n",
      " 2   borrower_income   77536 non-null  int64  \n",
      " 3   debt_to_income    77536 non-null  float64\n",
      " 4   num_of_accounts   77536 non-null  int64  \n",
      " 5   derogatory_marks  77536 non-null  int64  \n",
      " 6   total_debt        77536 non-null  int64  \n",
      "dtypes: float64(3), int64(4)\n",
      "memory usage: 4.1 MB\n",
      "None\n",
      "\u001b[32m--------------------------------------------------------------------------------\u001b[37m\n",
      "Row Count :\u001b[31m\n",
      "loan_size           77536\n",
      "interest_rate       77536\n",
      "borrower_income     77536\n",
      "debt_to_income      77536\n",
      "num_of_accounts     77536\n",
      "derogatory_marks    77536\n",
      "total_debt          77536\n",
      "dtype: int64 \u001b[37m\n",
      "\u001b[32m--------------------------------------------------------------------------------\u001b[37m\n",
      "   loan_size  interest_rate  borrower_income  debt_to_income  num_of_accounts  \\\n",
      "0    10700.0          7.672            52800        0.431818                5   \n",
      "1     8400.0          6.692            43600        0.311927                3   \n",
      "2     9000.0          6.963            46100        0.349241                3   \n",
      "3    10700.0          7.664            52700        0.430740                5   \n",
      "4    10800.0          7.698            53000        0.433962                5   \n",
      "\n",
      "   derogatory_marks  total_debt  \n",
      "0                 1       22800  \n",
      "1                 0       13600  \n",
      "2                 0       16100  \n",
      "3                 1       22700  \n",
      "4                 1       23000  \n",
      "\u001b[32m--------------------------------------------------------------------------------\u001b[37m\n"
     ]
    }
   ],
   "source": [
    "#\n",
    "# Review the X variable DataFrame\n",
    "#\n",
    "printDFinfo('X',X)"
   ]
  },
  {
   "cell_type": "markdown",
   "metadata": {},
   "source": [
    "Step 1.3: Check the balance of the labels variable (`y`) by using the `value_counts` function."
   ]
  },
  {
   "cell_type": "code",
   "execution_count": 9,
   "metadata": {},
   "outputs": [
    {
     "name": "stdout",
     "output_type": "stream",
     "text": [
      "\u001b[32m--------------------------------------------------------------------------------\u001b[37m\n",
      "\u001b[34m1 - Preparation\n",
      "\u001b[33m1.3 - Check Balance of y\n",
      "\u001b[32m--------------------------------------------------------------------------------\u001b[37m\n"
     ]
    }
   ],
   "source": [
    "printStep('1 - Preparation','1.3 - Check Balance of y')"
   ]
  },
  {
   "cell_type": "code",
   "execution_count": 10,
   "metadata": {},
   "outputs": [
    {
     "name": "stdout",
     "output_type": "stream",
     "text": [
      "\u001b[32m--------------------------------------------------------------------------------\u001b[37m\n",
      "total count: \u001b[31m 77536 \u001b[37m\n",
      "Count by  0: \u001b[31m 75036 \u001b[37m\n",
      "Count by  1: \u001b[31m 2500 \u001b[37m\n",
      "Check      : \u001b[31m 77536\n",
      "\u001b[32m--------------------------------------------------------------------------------\u001b[37m\n"
     ]
    }
   ],
   "source": [
    "#\n",
    "# Check the balance of our target values\n",
    "#\n",
    "printSeparator()\n",
    "print('total count:',fr.RED,y.count(),fr.WHITE)\n",
    "print('Count by  0:',fr.RED,y.value_counts()[0],fr.WHITE)\n",
    "print('Count by  1:',fr.RED,y.value_counts()[1],fr.WHITE)\n",
    "print('Check      :',fr.RED,y.value_counts()[0]+y.value_counts()[1])\n",
    "printSeparator()"
   ]
  },
  {
   "cell_type": "markdown",
   "metadata": {},
   "source": [
    "Step 1.4: Split the data into training and testing datasets by using `train_test_split`."
   ]
  },
  {
   "cell_type": "code",
   "execution_count": 11,
   "metadata": {},
   "outputs": [
    {
     "name": "stdout",
     "output_type": "stream",
     "text": [
      "\u001b[32m--------------------------------------------------------------------------------\u001b[37m\n",
      "\u001b[34m1 - Preparation \n",
      "\u001b[33m1.4 - Train Test Split\n",
      "\u001b[32m--------------------------------------------------------------------------------\u001b[37m\n"
     ]
    }
   ],
   "source": [
    "printStep('1 - Preparation ','1.4 - Train Test Split')"
   ]
  },
  {
   "cell_type": "code",
   "execution_count": 13,
   "metadata": {},
   "outputs": [
    {
     "name": "stdout",
     "output_type": "stream",
     "text": [
      "\u001b[32m--------------------------------------------------------------------------------\u001b[37m\n",
      "X_train Count          : \u001b[31m 58152 \u001b[37m\n",
      "y_train Count          : \u001b[31m 58152 \u001b[37m\n",
      "X_test  Count          : \u001b[31m 19384 \u001b[37m\n",
      "y_test  Count          : \u001b[31m 19384 \u001b[37m\n",
      "X_train + X_test Count : \u001b[31m 77536 \u001b[37m\n",
      "y_train + y_test Count : \u001b[31m 77536 \u001b[37m\n",
      "\u001b[32m--------------------------------------------------------------------------------\u001b[37m\n"
     ]
    }
   ],
   "source": [
    "#\n",
    "# Split the data using train_test_split\n",
    "# Assign a random_state of 1 to the function\n",
    "#\n",
    "\n",
    "X_train, X_test, y_train, y_test = tts(X, y, random_state=1)\n",
    "printSeparator()\n",
    "print('X_train Count          :',fr.RED,X_train.count()[0],fr.WHITE)\n",
    "print('y_train Count          :',fr.RED,y_train.count(),fr.WHITE)\n",
    "print('X_test  Count          :',fr.RED,X_test.count()[0],fr.WHITE)\n",
    "print('y_test  Count          :',fr.RED,y_test.count(),fr.WHITE)\n",
    "print('X_train + X_test Count :',fr.RED,X_train.count()[0]+X_test.count()[0],fr.WHITE)\n",
    "print('y_train + y_test Count :',fr.RED,y_train.count()+y_test.count(),fr.WHITE)\n",
    "printSeparator()"
   ]
  },
  {
   "cell_type": "markdown",
   "metadata": {},
   "source": [
    "Step 2. Create a Logistic Regression Model with the Original Data"
   ]
  },
  {
   "cell_type": "code",
   "execution_count": 14,
   "metadata": {},
   "outputs": [
    {
     "name": "stdout",
     "output_type": "stream",
     "text": [
      "\u001b[32m--------------------------------------------------------------------------------\u001b[37m\n",
      "\u001b[34m2 - Logistic Regression\n",
      "\u001b[33m2.1 - Create the Logistic Regression Model\n",
      "\u001b[32m--------------------------------------------------------------------------------\u001b[37m\n"
     ]
    }
   ],
   "source": [
    "printStep('2 - Logistic Regression','2.1 - Create the Logistic Regression Model')"
   ]
  },
  {
   "cell_type": "markdown",
   "metadata": {},
   "source": [
    "Step 2.1: Fit a logistic regression model by using the training data (`X_train` and `y_train`).\n"
   ]
  },
  {
   "cell_type": "code",
   "execution_count": 15,
   "metadata": {},
   "outputs": [],
   "source": [
    "# \n",
    "# Instantiate the Logistic Regression model\n",
    "# Assign a random_state parameter of 1 to the model\n",
    "#\n",
    "\n",
    "logistic_regression_model = lre(solver='lbfgs', random_state=1)\n",
    "\n",
    "#\n",
    "# Fit the model using training data\n",
    "#\n",
    "\n",
    "lr_model                  = logistic_regression_model.fit(X_train, y_train)"
   ]
  },
  {
   "cell_type": "markdown",
   "metadata": {},
   "source": [
    "Step 2.2: Save the predictions on the testing data labels by using the testing feature data (`X_test`) and the fitted model."
   ]
  },
  {
   "cell_type": "code",
   "execution_count": 16,
   "metadata": {},
   "outputs": [
    {
     "name": "stdout",
     "output_type": "stream",
     "text": [
      "\u001b[32m--------------------------------------------------------------------------------\u001b[37m\n",
      "\u001b[34m2 - Logistic Regression\n",
      "\u001b[33m2.2 - Make Predictions using the Testing Data\n",
      "\u001b[32m--------------------------------------------------------------------------------\u001b[37m\n"
     ]
    }
   ],
   "source": [
    "printStep('2 - Logistic Regression','2.2 - Make Predictions using the Testing Data')"
   ]
  },
  {
   "cell_type": "code",
   "execution_count": 17,
   "metadata": {},
   "outputs": [
    {
     "name": "stdout",
     "output_type": "stream",
     "text": [
      "\u001b[32m--------------------------------------------------------------------------------\u001b[37m\n",
      "Name:  df_test_predictions\n",
      "\u001b[32m--------------------------------------------------------------------------------\u001b[37m\n",
      "<class 'pandas.core.frame.DataFrame'>\n",
      "Index: 19384 entries, 60914 to 2793\n",
      "Data columns (total 2 columns):\n",
      " #   Column       Non-Null Count  Dtype\n",
      "---  ------       --------------  -----\n",
      " 0   Predictions  19384 non-null  int64\n",
      " 1   Actual       19384 non-null  int64\n",
      "dtypes: int64(2)\n",
      "memory usage: 454.3 KB\n",
      "None\n",
      "\u001b[32m--------------------------------------------------------------------------------\u001b[37m\n",
      "Row Count :\u001b[31m\n",
      "Predictions    19384\n",
      "Actual         19384\n",
      "dtype: int64 \u001b[37m\n",
      "\u001b[32m--------------------------------------------------------------------------------\u001b[37m\n",
      "       Predictions  Actual\n",
      "60914            0       0\n",
      "36843            0       0\n",
      "1966             0       0\n",
      "70137            0       0\n",
      "27237            0       0\n",
      "\u001b[32m--------------------------------------------------------------------------------\u001b[37m\n"
     ]
    }
   ],
   "source": [
    "# \n",
    "# Make a prediction using the testing data\n",
    "#\n",
    "\n",
    "test_predictions    = logistic_regression_model.predict(X_test)\n",
    "df_test_predictions = pd.DataFrame({'Predictions': test_predictions, 'Actual': y_test})\n",
    "printDFinfo('df_test_predictions',df_test_predictions)"
   ]
  },
  {
   "cell_type": "markdown",
   "metadata": {},
   "source": [
    "Step 2.3: Evaluate the model’s performance by doing the following:\n",
    "\n",
    "* Calculate the accuracy score of the model.\n",
    "\n",
    "* Generate a confusion matrix.\n",
    "\n",
    "* Print the classification report."
   ]
  },
  {
   "cell_type": "code",
   "execution_count": 18,
   "metadata": {},
   "outputs": [
    {
     "name": "stdout",
     "output_type": "stream",
     "text": [
      "\u001b[32m--------------------------------------------------------------------------------\u001b[37m\n",
      "\u001b[34m2 - Logistic Regression\n",
      "\u001b[33m2.3 Calculate, Generate, Print metrics for the model\n",
      "\u001b[32m--------------------------------------------------------------------------------\u001b[37m\n"
     ]
    }
   ],
   "source": [
    "printStep('2 - Logistic Regression','2.3 Calculate, Generate, Print metrics for the model')"
   ]
  },
  {
   "cell_type": "code",
   "execution_count": 45,
   "metadata": {},
   "outputs": [
    {
     "name": "stdout",
     "output_type": "stream",
     "text": [
      "\u001b[32m--------------------------------------------------------------------------------\u001b[37m\n",
      "\u001b[37mBalanced Accuracy Score : \u001b[31m0.9520479254722232\n",
      "\u001b[32m--------------------------------------------------------------------------------\u001b[37m\n"
     ]
    }
   ],
   "source": [
    "#\n",
    "# Print the balanced_accuracy score of the model\n",
    "#\n",
    "printBAS(bas(y_test, test_predictions))\n"
   ]
  },
  {
   "cell_type": "code",
   "execution_count": 42,
   "metadata": {},
   "outputs": [
    {
     "name": "stdout",
     "output_type": "stream",
     "text": [
      "\u001b[32m--------------------------------------------------------------------------------\u001b[37m\n",
      "cf test matrix : \u001b[31m\n",
      "[[18663   102]\n",
      " [   56   563]]\n",
      "\u001b[32m--------------------------------------------------------------------------------\u001b[37m\n"
     ]
    }
   ],
   "source": [
    "# \n",
    "# Generate a confusion matrix for the model\n",
    "#\n",
    "\n",
    "cf_test_matrix = cmx(y_test, test_predictions)\n",
    "printSeparator()\n",
    "print('cf test matrix :',fr.RED)\n",
    "print(cf_test_matrix)\n",
    "printSeparator()                      "
   ]
  },
  {
   "cell_type": "code",
   "execution_count": 21,
   "metadata": {},
   "outputs": [
    {
     "name": "stdout",
     "output_type": "stream",
     "text": [
      "\u001b[32m--------------------------------------------------------------------------------\u001b[37m\n",
      "\u001b[31m Classification Report \u001b[37m\n",
      "              precision    recall  f1-score   support\n",
      "\n",
      "           0       1.00      0.99      1.00     18765\n",
      "           1       0.85      0.91      0.88       619\n",
      "\n",
      "    accuracy                           0.99     19384\n",
      "   macro avg       0.92      0.95      0.94     19384\n",
      "weighted avg       0.99      0.99      0.99     19384\n",
      "\n",
      "\u001b[32m--------------------------------------------------------------------------------\u001b[37m\n"
     ]
    }
   ],
   "source": [
    "#\n",
    "# Print the classification report for the model\n",
    "#\n",
    "\n",
    "testing_report = csr(y_test, test_predictions);\n",
    "printReport(testing_report)\n"
   ]
  },
  {
   "cell_type": "markdown",
   "metadata": {},
   "source": [
    "Step 2.4: Answer the following question.\n",
    "\n",
    "**Question:** How well does the logistic regression model predict both the `0` (healthy loan) and `1` (high-risk loan) labels?\n",
    "\n",
    "**Answer:** `The logistic regression model was 95% accurate at predicting the healthy vs high-risk loan labels`"
   ]
  },
  {
   "cell_type": "code",
   "execution_count": 22,
   "metadata": {},
   "outputs": [
    {
     "name": "stdout",
     "output_type": "stream",
     "text": [
      "\u001b[32m--------------------------------------------------------------------------------\u001b[37m\n",
      "\u001b[34m2 - Logistic Regression\n",
      "\u001b[33m2.4 - Qualify the Model\n",
      "\u001b[32m--------------------------------------------------------------------------------\u001b[37m\n",
      "The logistic regression model was\u001b[31m 95% \u001b[37maccurate at predicting the healthy vs high-risk loan labels\n",
      "\u001b[32m--------------------------------------------------------------------------------\u001b[37m\n"
     ]
    }
   ],
   "source": [
    "printStep('2 - Logistic Regression','2.4 - Qualify the Model')\n",
    "print('The logistic regression model was'+ fr.RED +' 95% ' + fr.WHITE +'accurate at predicting the healthy vs high-risk loan labels')\n",
    "printSeparator()"
   ]
  },
  {
   "cell_type": "markdown",
   "metadata": {},
   "source": [
    "Step 3. Predict a Logistic Regression Model with Resampled Training Data"
   ]
  },
  {
   "cell_type": "markdown",
   "metadata": {},
   "source": [
    "\n",
    "Step 3.1: Use the `RandomOverSampler` module from the imbalanced-learn library to resample the data. Be sure to confirm that the labels have an equal number of data points. "
   ]
  },
  {
   "cell_type": "code",
   "execution_count": 23,
   "metadata": {},
   "outputs": [
    {
     "name": "stdout",
     "output_type": "stream",
     "text": [
      "\u001b[32m--------------------------------------------------------------------------------\u001b[37m\n",
      "\u001b[34m3 - Logistic Regression Model with Resampled Training Data\n",
      "\u001b[33m3.1 - Resample the training data with the RandomOversampler\n",
      "\u001b[32m--------------------------------------------------------------------------------\u001b[37m\n"
     ]
    }
   ],
   "source": [
    "printStep('3 - Logistic Regression Model with Resampled Training Data','3.1 - Resample the training data with the RandomOversampler')"
   ]
  },
  {
   "cell_type": "code",
   "execution_count": 24,
   "metadata": {},
   "outputs": [
    {
     "name": "stdout",
     "output_type": "stream",
     "text": [
      "\u001b[32m--------------------------------------------------------------------------------\u001b[37m\n",
      "Name:  X_ros_model\n",
      "\u001b[32m--------------------------------------------------------------------------------\u001b[37m\n",
      "<class 'pandas.core.frame.DataFrame'>\n",
      "RangeIndex: 150072 entries, 0 to 150071\n",
      "Data columns (total 7 columns):\n",
      " #   Column            Non-Null Count   Dtype  \n",
      "---  ------            --------------   -----  \n",
      " 0   loan_size         150072 non-null  float64\n",
      " 1   interest_rate     150072 non-null  float64\n",
      " 2   borrower_income   150072 non-null  int64  \n",
      " 3   debt_to_income    150072 non-null  float64\n",
      " 4   num_of_accounts   150072 non-null  int64  \n",
      " 5   derogatory_marks  150072 non-null  int64  \n",
      " 6   total_debt        150072 non-null  int64  \n",
      "dtypes: float64(3), int64(4)\n",
      "memory usage: 8.0 MB\n",
      "None\n",
      "\u001b[32m--------------------------------------------------------------------------------\u001b[37m\n",
      "Row Count :\u001b[31m\n",
      "loan_size           150072\n",
      "interest_rate       150072\n",
      "borrower_income     150072\n",
      "debt_to_income      150072\n",
      "num_of_accounts     150072\n",
      "derogatory_marks    150072\n",
      "total_debt          150072\n",
      "dtype: int64 \u001b[37m\n",
      "\u001b[32m--------------------------------------------------------------------------------\u001b[37m\n",
      "   loan_size  interest_rate  borrower_income  debt_to_income  num_of_accounts  \\\n",
      "0    10700.0          7.672            52800        0.431818                5   \n",
      "1     8400.0          6.692            43600        0.311927                3   \n",
      "2     9000.0          6.963            46100        0.349241                3   \n",
      "3    10700.0          7.664            52700        0.430740                5   \n",
      "4    10800.0          7.698            53000        0.433962                5   \n",
      "\n",
      "   derogatory_marks  total_debt  \n",
      "0                 1       22800  \n",
      "1                 0       13600  \n",
      "2                 0       16100  \n",
      "3                 1       22700  \n",
      "4                 1       23000  \n",
      "\u001b[32m--------------------------------------------------------------------------------\u001b[37m\n",
      "\u001b[32m--------------------------------------------------------------------------------\u001b[37m\n",
      "Name:  y_ros_model\n",
      "\u001b[32m--------------------------------------------------------------------------------\u001b[37m\n",
      "<class 'pandas.core.series.Series'>\n",
      "RangeIndex: 150072 entries, 0 to 150071\n",
      "Series name: loan_status\n",
      "Non-Null Count   Dtype\n",
      "--------------   -----\n",
      "150072 non-null  int64\n",
      "dtypes: int64(1)\n",
      "memory usage: 1.1 MB\n",
      "None\n",
      "\u001b[32m--------------------------------------------------------------------------------\u001b[37m\n",
      "Row Count :\u001b[31m\n",
      "150072 \u001b[37m\n",
      "\u001b[32m--------------------------------------------------------------------------------\u001b[37m\n",
      "0    0\n",
      "1    0\n",
      "2    0\n",
      "3    0\n",
      "4    0\n",
      "Name: loan_status, dtype: int64\n",
      "\u001b[32m--------------------------------------------------------------------------------\u001b[37m\n"
     ]
    }
   ],
   "source": [
    "#\n",
    "# Instantiate the random oversampler model\n",
    "# Assign a random_state parameter of 1 to the model\n",
    "#\n",
    "\n",
    "ros = ros(random_state=1);\n",
    "\n",
    "#\n",
    "# Fit the original training data to the random_oversampler model\n",
    "#\n",
    "\n",
    "X_ros_model, y_ros_model = ros.fit_resample(X,y)\n",
    "\n",
    "printDFinfo('X_ros_model',X_ros_model)\n",
    "printDFinfo('y_ros_model',y_ros_model)"
   ]
  },
  {
   "cell_type": "code",
   "execution_count": 25,
   "metadata": {},
   "outputs": [
    {
     "name": "stdout",
     "output_type": "stream",
     "text": [
      "\u001b[32m--------------------------------------------------------------------------------\u001b[37m\n",
      "X_ros_model  Counter({'loan_size': 1, 'interest_rate': 1, 'borrower_income': 1, 'debt_to_income': 1, 'num_of_accounts': 1, 'derogatory_marks': 1, 'total_debt': 1})\n",
      "y_ros_model  Counter({0: 75036, 1: 75036})\n",
      "\u001b[32m--------------------------------------------------------------------------------\u001b[37m\n"
     ]
    }
   ],
   "source": [
    "# \n",
    "# Count the distinct values of the resampled labels data\n",
    "#\n",
    "\n",
    "printSeparator()\n",
    "print('X_ros_model ',ctr(X_ros_model))\n",
    "print('y_ros_model ',ctr(y_ros_model))\n",
    "printSeparator()"
   ]
  },
  {
   "cell_type": "markdown",
   "metadata": {},
   "source": [
    "Step 3.2: Use the `LogisticRegression` classifier and the resampled data to fit the model and make predictions."
   ]
  },
  {
   "cell_type": "code",
   "execution_count": 26,
   "metadata": {},
   "outputs": [
    {
     "name": "stdout",
     "output_type": "stream",
     "text": [
      "\u001b[32m--------------------------------------------------------------------------------\u001b[37m\n",
      "\u001b[34m3 - Logistic Regression Model with Resampled Training Data\n",
      "\u001b[33m3.2 - Train a Logistic Regression Model using the resampled data\n",
      "\u001b[32m--------------------------------------------------------------------------------\u001b[37m\n"
     ]
    }
   ],
   "source": [
    "printStep('3 - Logistic Regression Model with Resampled Training Data','3.2 - Train a Logistic Regression Model using the resampled data')"
   ]
  },
  {
   "cell_type": "code",
   "execution_count": 27,
   "metadata": {},
   "outputs": [
    {
     "name": "stdout",
     "output_type": "stream",
     "text": [
      "\u001b[32m--------------------------------------------------------------------------------\u001b[37m\n",
      "Name:  df_predictions\n",
      "\u001b[32m--------------------------------------------------------------------------------\u001b[37m\n",
      "<class 'pandas.core.frame.DataFrame'>\n",
      "RangeIndex: 150072 entries, 0 to 150071\n",
      "Data columns (total 2 columns):\n",
      " #   Column       Non-Null Count   Dtype\n",
      "---  ------       --------------   -----\n",
      " 0   Predictions  150072 non-null  int64\n",
      " 1   Actual       150072 non-null  int64\n",
      "dtypes: int64(2)\n",
      "memory usage: 2.3 MB\n",
      "None\n",
      "\u001b[32m--------------------------------------------------------------------------------\u001b[37m\n",
      "Row Count :\u001b[31m\n",
      "Predictions    150072\n",
      "Actual         150072\n",
      "dtype: int64 \u001b[37m\n",
      "\u001b[32m--------------------------------------------------------------------------------\u001b[37m\n",
      "   Predictions  Actual\n",
      "0            0       0\n",
      "1            0       0\n",
      "2            0       0\n",
      "3            0       0\n",
      "4            0       0\n",
      "\u001b[32m--------------------------------------------------------------------------------\u001b[37m\n"
     ]
    }
   ],
   "source": [
    "# \n",
    "# Instantiate the Logistic Regression model\n",
    "# Assign a random_state parameter of 1 to the model\n",
    "#\n",
    "\n",
    "classifier = lre(solver='lbfgs', random_state=1)\n",
    "\n",
    "#\n",
    "# Fit the model using the resampled training data\n",
    "#\n",
    "\n",
    "classifier.fit(X_ros_model, y_ros_model)\n",
    "\n",
    "#\n",
    "# Make a prediction using the testing data\n",
    "#\n",
    "\n",
    "predictions    = classifier.predict(X_ros_model);\n",
    "df_predictions = pd.DataFrame({'Predictions': predictions, 'Actual': y_ros_model});\n",
    "printDFinfo('df_predictions',df_predictions)"
   ]
  },
  {
   "cell_type": "markdown",
   "metadata": {},
   "source": [
    "Step 3.3: Evaluate the model’s performance by doing the following:\n",
    "\n",
    "* Calculate the accuracy score of the model.\n",
    "\n",
    "* Generate a confusion matrix.\n",
    "\n",
    "* Print the classification report."
   ]
  },
  {
   "cell_type": "code",
   "execution_count": 28,
   "metadata": {},
   "outputs": [
    {
     "name": "stdout",
     "output_type": "stream",
     "text": [
      "\u001b[32m--------------------------------------------------------------------------------\u001b[37m\n",
      "\u001b[34m3 - Logistic Regression Model with Resampled Training Data\n",
      "\u001b[33m3.3 - Calculate, Generate, Print metrics for the model\n",
      "\u001b[32m--------------------------------------------------------------------------------\u001b[37m\n"
     ]
    }
   ],
   "source": [
    "printStep('3 - Logistic Regression Model with Resampled Training Data','3.3 - Calculate, Generate, Print metrics for the model')"
   ]
  },
  {
   "cell_type": "code",
   "execution_count": 46,
   "metadata": {},
   "outputs": [
    {
     "name": "stdout",
     "output_type": "stream",
     "text": [
      "\u001b[32m--------------------------------------------------------------------------------\u001b[37m\n",
      "\u001b[37mBalanced Accuracy Score : \u001b[31m0.9945026387334079\n",
      "\u001b[32m--------------------------------------------------------------------------------\u001b[37m\n"
     ]
    }
   ],
   "source": [
    "# \n",
    "# Print the balanced_accuracy score of the model\n",
    "#\n",
    "\n",
    "printBAS(bas(y_ros_model, predictions))"
   ]
  },
  {
   "cell_type": "code",
   "execution_count": 30,
   "metadata": {},
   "outputs": [
    {
     "name": "stdout",
     "output_type": "stream",
     "text": [
      "\u001b[32m--------------------------------------------------------------------------------\u001b[37m\n",
      "CF Matrix : \u001b[31m\n",
      "[[74614   422]\n",
      " [  403 74633]]\n",
      "\u001b[32m--------------------------------------------------------------------------------\u001b[37m\n"
     ]
    }
   ],
   "source": [
    "# Generate a confusion matrix for the model\n",
    "cf_matrix = cmx(y_ros_model, predictions)\n",
    "printSeparator()\n",
    "print('CF Matrix :',fr.RED)\n",
    "print(cf_matrix)\n",
    "printSeparator()"
   ]
  },
  {
   "cell_type": "code",
   "execution_count": 31,
   "metadata": {},
   "outputs": [
    {
     "name": "stdout",
     "output_type": "stream",
     "text": [
      "\u001b[32m--------------------------------------------------------------------------------\u001b[37m\n",
      "\u001b[31m Classification Report \u001b[37m\n",
      "              precision    recall  f1-score   support\n",
      "\n",
      "           0       0.99      0.99      0.99     75036\n",
      "           1       0.99      0.99      0.99     75036\n",
      "\n",
      "    accuracy                           0.99    150072\n",
      "   macro avg       0.99      0.99      0.99    150072\n",
      "weighted avg       0.99      0.99      0.99    150072\n",
      "\n",
      "\u001b[32m--------------------------------------------------------------------------------\u001b[37m\n"
     ]
    }
   ],
   "source": [
    "# Print the classification report for the model\n",
    "report = csr(y_ros_model, predictions)\n",
    "printReport(report)\n"
   ]
  },
  {
   "cell_type": "markdown",
   "metadata": {},
   "source": [
    "Step 3.4: Answer the following question"
   ]
  },
  {
   "cell_type": "markdown",
   "metadata": {},
   "source": [
    "**Question:** How well does the logistic regression model, fit with oversampled data, predict both the `0` (healthy loan) and `1` (high-risk loan) labels?\n",
    "\n",
    "**Answer:** `The logistic regression model predicts the oversampled data with near-perfect accuracy (>99% accurate)`"
   ]
  },
  {
   "cell_type": "code",
   "execution_count": 32,
   "metadata": {},
   "outputs": [
    {
     "name": "stdout",
     "output_type": "stream",
     "text": [
      "\u001b[32m--------------------------------------------------------------------------------\u001b[37m\n",
      "\u001b[34m3 - Logistic Regression Model with Resampled Training Data\n",
      "\u001b[33m3.4 - Qualify the Model \n",
      "\u001b[32m--------------------------------------------------------------------------------\u001b[37m\n",
      "The logistic regression model predicts the oversampled data with near-perfect accuracy (>99% accurate)\n",
      "\u001b[32m--------------------------------------------------------------------------------\u001b[37m\n"
     ]
    }
   ],
   "source": [
    "printStep('3 - Logistic Regression Model with Resampled Training Data','3.4 - Qualify the Model ')\n",
    "print('The logistic regression model predicts the oversampled data with near-perfect accuracy (>99% accurate)')\n",
    "printSeparator()"
   ]
  }
 ],
 "metadata": {
  "kernelspec": {
   "display_name": "base",
   "language": "python",
   "name": "python3"
  },
  "language_info": {
   "codemirror_mode": {
    "name": "ipython",
    "version": 3
   },
   "file_extension": ".py",
   "mimetype": "text/x-python",
   "name": "python",
   "nbconvert_exporter": "python",
   "pygments_lexer": "ipython3",
   "version": "3.10.8"
  }
 },
 "nbformat": 4,
 "nbformat_minor": 4
}
