{
 "cells": [
  {
   "cell_type": "code",
   "execution_count": null,
   "metadata": {},
   "outputs": [],
   "source": [
    "#\n",
    "# Import the modules\n",
    "#\n",
    "\n",
    "import pandas                                                 as pd\n",
    "import shutil                                                 as shu\n",
    "from   colorama                import Fore                    as fr\n",
    "from   colorama                import Back                    as bk\n",
    "from   colorama                import Style                   as st\n",
    "from   pathlib                 import Path                    as pt\n",
    "from   sklearn.metrics         import balanced_accuracy_score as bas\n",
    "from   sklearn.metrics         import confusion_matrix        as cmx\n",
    "from   sklearn.metrics         import classification_report   as csr\n",
    "from   sklearn.model_selection import train_test_split        as tts\n",
    "from   sklearn.linear_model    import LogisticRegression      as lre\n",
    "from   imblearn.over_sampling  import RandomOverSampler       as ros\n",
    "from   collections             import Counter                 as ctr"
   ]
  },
  {
   "cell_type": "code",
   "execution_count": null,
   "metadata": {},
   "outputs": [],
   "source": [
    "def printSeparator():\n",
    "    w, h = shu.get_terminal_size()\n",
    "    print(fr.GREEN); print('_'* w,fr.WHITE)"
   ]
  },
  {
   "cell_type": "code",
   "execution_count": 45,
   "metadata": {},
   "outputs": [],
   "source": [
    "def printStep(stepA, stepB):\n",
    "    printSeparator()\n",
    "    print(stepA)\n",
    "    print(stepB)\n",
    "    printSeparator()"
   ]
  },
  {
   "cell_type": "markdown",
   "metadata": {},
   "source": [
    "Step 1: Split the Data into Training and Testing Sets\n"
   ]
  },
  {
   "cell_type": "markdown",
   "metadata": {},
   "source": [
    "\n",
    "Step 1.1: Read the `lending_data.csv` data from the `Resources` folder into a Pandas DataFrame."
   ]
  },
  {
   "cell_type": "code",
   "execution_count": 48,
   "metadata": {},
   "outputs": [
    {
     "name": "stdout",
     "output_type": "stream",
     "text": [
      "\u001b[32m\n",
      "________________________________________________________________________________ \u001b[37m\n",
      "1\n",
      "\n",
      "\u001b[32m\n",
      "________________________________________________________________________________ \u001b[37m\n"
     ]
    }
   ],
   "source": [
    "printStep('1','')"
   ]
  },
  {
   "cell_type": "code",
   "execution_count": 49,
   "metadata": {},
   "outputs": [
    {
     "name": "stdout",
     "output_type": "stream",
     "text": [
      "\u001b[32m\n",
      "________________________________________________________________________________ \u001b[37m\n",
      "1\n",
      "1.1\n",
      "\u001b[32m\n",
      "________________________________________________________________________________ \u001b[37m\n"
     ]
    }
   ],
   "source": [
    "printStep('1','1.1')"
   ]
  },
  {
   "cell_type": "code",
   "execution_count": null,
   "metadata": {},
   "outputs": [],
   "source": [
    "#\n",
    "# Read the CSV file from the Resources folder into a Pandas DataFrame\n",
    "#\n",
    "\n",
    "df_lending = pd.read_csv(pt('../Resources/lending_data.csv'))\n",
    "\n",
    "#\n",
    "# Review the DataFrame\n",
    "#\n",
    "printSeparator()\n",
    "print('Row Count :',fr.RED,df_lending.count()[0],fr.WHITE)\n",
    "print('')\n",
    "print(df_lending.head())\n",
    "printSeparator()"
   ]
  },
  {
   "cell_type": "markdown",
   "metadata": {},
   "source": [
    "Step 1.2: Create the labels set (`y`)  from the “loan_status” column, and then create the features (`X`) DataFrame from the remaining columns."
   ]
  },
  {
   "cell_type": "code",
   "execution_count": 47,
   "metadata": {},
   "outputs": [
    {
     "name": "stdout",
     "output_type": "stream",
     "text": [
      "\u001b[32m\n",
      "________________________________________________________________________________ \u001b[37m\n",
      "1\n",
      "1.2\n",
      "\u001b[32m\n",
      "________________________________________________________________________________ \u001b[37m\n"
     ]
    }
   ],
   "source": [
    "printStep('1','1.2')"
   ]
  },
  {
   "cell_type": "code",
   "execution_count": null,
   "metadata": {},
   "outputs": [],
   "source": [
    "#\n",
    "# Separate the data into labels and features\n",
    "#\n",
    "# Separate the y variable, the labels\n",
    "#\n",
    "\n",
    "y = df_lending['loan_status'];\n",
    "\n",
    "#\n",
    "# Separate the X variable, the features\n",
    "#\n",
    "\n",
    "X = df_lending.drop(columns=['loan_status']);"
   ]
  },
  {
   "cell_type": "code",
   "execution_count": null,
   "metadata": {},
   "outputs": [],
   "source": [
    "#\n",
    "# Review the y variable Series\n",
    "#\n",
    "printSeparator()\n",
    "print('Values fot Y :')\n",
    "print(fr.WHITE)\n",
    "print(y.head())\n",
    "printSeparator()"
   ]
  },
  {
   "cell_type": "code",
   "execution_count": null,
   "metadata": {},
   "outputs": [],
   "source": [
    "#\n",
    "# Review the X variable DataFrame\n",
    "#\n",
    "printSeparator()\n",
    "\n",
    "print('Values of X :')\n",
    "print(fr.WHITE)\n",
    "print(X.head())\n",
    "printSeparator()"
   ]
  },
  {
   "cell_type": "markdown",
   "metadata": {},
   "source": [
    "Step 1.3: Check the balance of the labels variable (`y`) by using the `value_counts` function."
   ]
  },
  {
   "cell_type": "code",
   "execution_count": 53,
   "metadata": {},
   "outputs": [
    {
     "name": "stdout",
     "output_type": "stream",
     "text": [
      "\u001b[32m\n",
      "________________________________________________________________________________ \u001b[37m\n",
      "1\n",
      "1.3\n",
      "\u001b[32m\n",
      "________________________________________________________________________________ \u001b[37m\n"
     ]
    }
   ],
   "source": [
    "printStep('1','1.3')"
   ]
  },
  {
   "cell_type": "code",
   "execution_count": null,
   "metadata": {},
   "outputs": [],
   "source": [
    "#\n",
    "# Check the balance of our target values\n",
    "#\n",
    "printSeparator()\n",
    "print('total count:',fr.RED,y.count(),fr.WHITE)\n",
    "print('Count by  0:',fr.RED,y.value_counts()[0],fr.WHITE)\n",
    "print('Count by  1:',fr.RED,y.value_counts()[1],fr.WHITE)\n",
    "print('Check      :',fr.RED,y.value_counts()[0]+y.value_counts()[1])\n",
    "printSeparator()"
   ]
  },
  {
   "cell_type": "markdown",
   "metadata": {},
   "source": [
    "Step 1.4: Split the data into training and testing datasets by using `train_test_split`."
   ]
  },
  {
   "cell_type": "code",
   "execution_count": 54,
   "metadata": {},
   "outputs": [
    {
     "name": "stdout",
     "output_type": "stream",
     "text": [
      "\u001b[32m\n",
      "________________________________________________________________________________ \u001b[37m\n",
      "1\n",
      "1.4\n",
      "\u001b[32m\n",
      "________________________________________________________________________________ \u001b[37m\n"
     ]
    }
   ],
   "source": [
    "printStep('1','1.4')"
   ]
  },
  {
   "cell_type": "code",
   "execution_count": null,
   "metadata": {},
   "outputs": [],
   "source": [
    "#\n",
    "# Split the data using train_test_split\n",
    "# Assign a random_state of 1 to the function\n",
    "#\n",
    "\n",
    "X_train, X_test, y_train, y_test = tts(X, y, random_state=1)\n",
    "printSeparator()\n",
    "print('X_train Count          :',Fore.RED,X_train.count()[0],Fore.WHITE)\n",
    "print('y_train Count          :',Fore.RED,y_train.count(),Fore.WHITE)\n",
    "print('X_test  Count          :',Fore.RED,X_test.count()[0],Fore.WHITE)\n",
    "print('y_test  Count          :',Fore.RED,y_test.count(),Fore.WHITE)\n",
    "print('X_train + X_test Count :',Fore.RED,X_train.count()[0]+X_test.count()[0],Fore.WHITE)\n",
    "printSeparator()"
   ]
  },
  {
   "cell_type": "markdown",
   "metadata": {},
   "source": [
    "Step 2. Create a Logistic Regression Model with the Original Data"
   ]
  },
  {
   "cell_type": "code",
   "execution_count": 50,
   "metadata": {},
   "outputs": [
    {
     "name": "stdout",
     "output_type": "stream",
     "text": [
      "\u001b[32m\n",
      "________________________________________________________________________________ \u001b[37m\n",
      "2\n",
      "\n",
      "\u001b[32m\n",
      "________________________________________________________________________________ \u001b[37m\n"
     ]
    }
   ],
   "source": [
    "printStep('2','')"
   ]
  },
  {
   "cell_type": "code",
   "execution_count": 51,
   "metadata": {},
   "outputs": [
    {
     "name": "stdout",
     "output_type": "stream",
     "text": [
      "\u001b[32m\n",
      "________________________________________________________________________________ \u001b[37m\n",
      "2\n",
      "2.1\n",
      "\u001b[32m\n",
      "________________________________________________________________________________ \u001b[37m\n"
     ]
    }
   ],
   "source": [
    "printStep('2','2.1')"
   ]
  },
  {
   "cell_type": "markdown",
   "metadata": {},
   "source": [
    "Step 2.1: Fit a logistic regression model by using the training data (`X_train` and `y_train`).\n"
   ]
  },
  {
   "cell_type": "code",
   "execution_count": null,
   "metadata": {},
   "outputs": [],
   "source": [
    "# \n",
    "# Instantiate the Logistic Regression model\n",
    "# Assign a random_state parameter of 1 to the model\n",
    "#\n",
    "\n",
    "logistic_regression_model = lre(solver='lbfgs', random_state=1)\n",
    "\n",
    "#\n",
    "# Fit the model using training data\n",
    "#\n",
    "\n",
    "lr_model                  = logistic_regression_model.fit(X_train, y_train)"
   ]
  },
  {
   "cell_type": "markdown",
   "metadata": {},
   "source": [
    "Step 2.2: Save the predictions on the testing data labels by using the testing feature data (`X_test`) and the fitted model."
   ]
  },
  {
   "cell_type": "code",
   "execution_count": 55,
   "metadata": {},
   "outputs": [
    {
     "name": "stdout",
     "output_type": "stream",
     "text": [
      "\u001b[32m\n",
      "________________________________________________________________________________ \u001b[37m\n",
      "2\n",
      "2.2\n",
      "\u001b[32m\n",
      "________________________________________________________________________________ \u001b[37m\n"
     ]
    }
   ],
   "source": [
    "printStep('2','2.2')"
   ]
  },
  {
   "cell_type": "code",
   "execution_count": null,
   "metadata": {},
   "outputs": [],
   "source": [
    "# \n",
    "# Make a prediction using the testing data\n",
    "#\n",
    "\n",
    "test_predictions    = logistic_regression_model.predict(X_test)\n",
    "df_test_predictions = pd.DataFrame({'Predictions': test_predictions, 'Actual': y_test})\n",
    "printSeparator()\n",
    "print(df_test_predictions)\n",
    "printSeparator()"
   ]
  },
  {
   "cell_type": "markdown",
   "metadata": {},
   "source": [
    "Step 2.3: Evaluate the model’s performance by doing the following:\n",
    "\n",
    "* Calculate the accuracy score of the model.\n",
    "\n",
    "* Generate a confusion matrix.\n",
    "\n",
    "* Print the classification report."
   ]
  },
  {
   "cell_type": "code",
   "execution_count": 56,
   "metadata": {},
   "outputs": [
    {
     "name": "stdout",
     "output_type": "stream",
     "text": [
      "\u001b[32m\n",
      "________________________________________________________________________________ \u001b[37m\n",
      "2\n",
      "2.3\n",
      "\u001b[32m\n",
      "________________________________________________________________________________ \u001b[37m\n"
     ]
    }
   ],
   "source": [
    "printStep('2','2.3')"
   ]
  },
  {
   "cell_type": "code",
   "execution_count": null,
   "metadata": {},
   "outputs": [],
   "source": [
    "#\n",
    "# Print the balanced_accuracy score of the model\n",
    "#\n",
    "printSeparator()\n",
    "print(f\"The balanced accuracy score of the model is: {bas(y_test, test_predictions)}\")\n",
    "printSeparator()"
   ]
  },
  {
   "cell_type": "code",
   "execution_count": null,
   "metadata": {},
   "outputs": [],
   "source": [
    "# \n",
    "# Generate a confusion matrix for the model\n",
    "#\n",
    "\n",
    "cf_test_matrix = cmx(y_test, test_predictions)\n",
    "printSeparator()\n",
    "print('cf test matrix :',Fore.RED)\n",
    "print(cf_test_matrix)\n",
    "printSeparator()                      "
   ]
  },
  {
   "cell_type": "code",
   "execution_count": null,
   "metadata": {},
   "outputs": [],
   "source": [
    "#\n",
    "# Print the classification report for the model\n",
    "#\n",
    "\n",
    "testing_report = csr(y_test, test_predictions);\n",
    "printSeparator()\n",
    "print(Fore.RED,'Classification Report',Fore.WHITE)\n",
    "print(testing_report)\n",
    "printSeparator()"
   ]
  },
  {
   "cell_type": "markdown",
   "metadata": {},
   "source": [
    "Step 2.4: Answer the following question.\n",
    "\n",
    "**Question:** How well does the logistic regression model predict both the `0` (healthy loan) and `1` (high-risk loan) labels?\n",
    "\n",
    "**Answer:** `The logistic regression model was 95% accurate at predicting the healthy vs high-risk loan labels`"
   ]
  },
  {
   "cell_type": "code",
   "execution_count": 59,
   "metadata": {},
   "outputs": [
    {
     "name": "stdout",
     "output_type": "stream",
     "text": [
      "\u001b[32m\n",
      "________________________________________________________________________________ \u001b[37m\n",
      "2\n",
      "2.4\n",
      "\u001b[32m\n",
      "________________________________________________________________________________ \u001b[37m\n",
      "The logistic regression model was 95% accurate at predicting the healthy vs high-risk loan labels\n",
      "\u001b[32m\n",
      "________________________________________________________________________________ \u001b[37m\n"
     ]
    }
   ],
   "source": [
    "printStep('2','2.4')\n",
    "print('The logistic regression model was 95% accurate at predicting the healthy vs high-risk loan labels')\n",
    "printSeparator()"
   ]
  },
  {
   "cell_type": "markdown",
   "metadata": {},
   "source": [
    "Step 3. Predict a Logistic Regression Model with Resampled Training Data"
   ]
  },
  {
   "cell_type": "markdown",
   "metadata": {},
   "source": [
    "\n",
    "Step 3.1: Use the `RandomOverSampler` module from the imbalanced-learn library to resample the data. Be sure to confirm that the labels have an equal number of data points. "
   ]
  },
  {
   "cell_type": "code",
   "execution_count": 62,
   "metadata": {},
   "outputs": [
    {
     "name": "stdout",
     "output_type": "stream",
     "text": [
      "\u001b[32m\n",
      "________________________________________________________________________________ \u001b[37m\n",
      "3\n",
      "\n",
      "\u001b[32m\n",
      "________________________________________________________________________________ \u001b[37m\n",
      "\u001b[32m\n",
      "________________________________________________________________________________ \u001b[37m\n",
      "3\n",
      "3.1\n",
      "\u001b[32m\n",
      "________________________________________________________________________________ \u001b[37m\n"
     ]
    }
   ],
   "source": [
    "printStep('3','')\n",
    "printStep('3','3.1')"
   ]
  },
  {
   "cell_type": "code",
   "execution_count": null,
   "metadata": {},
   "outputs": [],
   "source": [
    "#\n",
    "# Instantiate the random oversampler model\n",
    "# Assign a random_state parameter of 1 to the model\n",
    "#\n",
    "\n",
    "ros = ros(random_state=1);\n",
    "\n",
    "#\n",
    "# Fit the original training data to the random_oversampler model\n",
    "#\n",
    "\n",
    "X_ros_model, y_ros_model = ros.fit_resample(X,y);"
   ]
  },
  {
   "cell_type": "code",
   "execution_count": null,
   "metadata": {},
   "outputs": [],
   "source": [
    "# \n",
    "# Count the distinct values of the resampled labels data\n",
    "#\n",
    "\n",
    "printSeparator()\n",
    "print('X_ros_model ',ctr(X_ros_model))\n",
    "print('y_ros_model ',ctr(y_ros_model))\n",
    "printSeparator()"
   ]
  },
  {
   "cell_type": "markdown",
   "metadata": {},
   "source": [
    "Step 3.2: Use the `LogisticRegression` classifier and the resampled data to fit the model and make predictions."
   ]
  },
  {
   "cell_type": "code",
   "execution_count": 63,
   "metadata": {},
   "outputs": [
    {
     "name": "stdout",
     "output_type": "stream",
     "text": [
      "\u001b[32m\n",
      "________________________________________________________________________________ \u001b[37m\n",
      "3\n",
      "3.2\n",
      "\u001b[32m\n",
      "________________________________________________________________________________ \u001b[37m\n"
     ]
    }
   ],
   "source": [
    "printStep('3','3.2')"
   ]
  },
  {
   "cell_type": "code",
   "execution_count": null,
   "metadata": {},
   "outputs": [],
   "source": [
    "# \n",
    "# Instantiate the Logistic Regression model\n",
    "# Assign a random_state parameter of 1 to the model\n",
    "#\n",
    "\n",
    "classifier = lre(solver='lbfgs', random_state=1)\n",
    "\n",
    "#\n",
    "# Fit the model using the resampled training data\n",
    "#\n",
    "\n",
    "classifier.fit(X_ros_model, y_ros_model)\n",
    "\n",
    "#\n",
    "# Make a prediction using the testing data\n",
    "#\n",
    "\n",
    "predictions    = classifier.predict(X_ros_model);\n",
    "df_predictions = pd.DataFrame({'Predictions': predictions, 'Actual': y_ros_model});\n",
    "printSeparator()\n",
    "print(df_predictions)\n",
    "printSeparator()\n"
   ]
  },
  {
   "cell_type": "markdown",
   "metadata": {},
   "source": [
    "Step 3.3: Evaluate the model’s performance by doing the following:\n",
    "\n",
    "* Calculate the accuracy score of the model.\n",
    "\n",
    "* Generate a confusion matrix.\n",
    "\n",
    "* Print the classification report."
   ]
  },
  {
   "cell_type": "code",
   "execution_count": 64,
   "metadata": {},
   "outputs": [
    {
     "name": "stdout",
     "output_type": "stream",
     "text": [
      "\u001b[32m\n",
      "________________________________________________________________________________ \u001b[37m\n",
      "3\n",
      "3.3\n",
      "\u001b[32m\n",
      "________________________________________________________________________________ \u001b[37m\n"
     ]
    }
   ],
   "source": [
    "printStep('3','3.3')"
   ]
  },
  {
   "cell_type": "code",
   "execution_count": null,
   "metadata": {},
   "outputs": [],
   "source": [
    "# \n",
    "# Print the balanced_accuracy score of the model\n",
    "#\n",
    "printSeparator()\n",
    "print(f\"The balanced accuracy score of the model is: {bas(y_ros_model, predictions)}\")\n",
    "printSeparator()"
   ]
  },
  {
   "cell_type": "code",
   "execution_count": null,
   "metadata": {},
   "outputs": [],
   "source": [
    "# Generate a confusion matrix for the model\n",
    "cf_matrix = cmx(y_ros_model, predictions)\n",
    "printSeparator()\n",
    "print('CF Matrix :',Fore.RED)\n",
    "print(cf_matrix)\n",
    "printSeparator()"
   ]
  },
  {
   "cell_type": "code",
   "execution_count": null,
   "metadata": {},
   "outputs": [],
   "source": [
    "# Print the classification report for the model\n",
    "report = csr(y_ros_model, predictions)\n",
    "printSeparator()\n",
    "print(Fore.RED,'Classification Report',Fore.WHITE)\n",
    "print(report)\n",
    "printSeparator()"
   ]
  },
  {
   "cell_type": "markdown",
   "metadata": {},
   "source": [
    "Step 3.4: Answer the following question"
   ]
  },
  {
   "cell_type": "markdown",
   "metadata": {},
   "source": [
    "**Question:** How well does the logistic regression model, fit with oversampled data, predict both the `0` (healthy loan) and `1` (high-risk loan) labels?\n",
    "\n",
    "**Answer:** `The logistic regression model predicts the oversampled data with near-perfect accuracy (>99% accurate)`"
   ]
  },
  {
   "cell_type": "code",
   "execution_count": 65,
   "metadata": {},
   "outputs": [
    {
     "name": "stdout",
     "output_type": "stream",
     "text": [
      "\u001b[32m\n",
      "________________________________________________________________________________ \u001b[37m\n",
      "3\n",
      "3.4\n",
      "\u001b[32m\n",
      "________________________________________________________________________________ \u001b[37m\n",
      "The logistic regression model predicts the oversampled data with near-perfect accuracy (>99% accurate)\n",
      "\u001b[32m\n",
      "________________________________________________________________________________ \u001b[37m\n"
     ]
    }
   ],
   "source": [
    "printStep('3','3.4')\n",
    "print('The logistic regression model predicts the oversampled data with near-perfect accuracy (>99% accurate)')\n",
    "printSeparator()"
   ]
  }
 ],
 "metadata": {
  "kernelspec": {
   "display_name": "base",
   "language": "python",
   "name": "python3"
  },
  "language_info": {
   "codemirror_mode": {
    "name": "ipython",
    "version": 3
   },
   "file_extension": ".py",
   "mimetype": "text/x-python",
   "name": "python",
   "nbconvert_exporter": "python",
   "pygments_lexer": "ipython3",
   "version": "3.10.8"
  }
 },
 "nbformat": 4,
 "nbformat_minor": 4
}
